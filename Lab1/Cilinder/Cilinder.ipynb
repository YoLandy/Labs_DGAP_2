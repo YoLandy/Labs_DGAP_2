{
 "cells": [
  {
   "cell_type": "code",
   "execution_count": 6,
   "metadata": {},
   "outputs": [],
   "source": [
    "import gmsh\n",
    "import sys\n",
    "import numpy as np"
   ]
  },
  {
   "cell_type": "code",
   "execution_count": 7,
   "metadata": {},
   "outputs": [],
   "source": [
    "def get_cilinder(r, h, N=10, lc=1e-2):\n",
    "    coords = [(r * np.cos(phi), r * np.sin(phi)) for phi in np.linspace(0, 2 * 3.14, N)]\n",
    "    dots = [(gmsh.model.geo.addPoint(x, y, 0, lc), gmsh.model.geo.addPoint(x, y, h, lc)) for (x, y) in coords]\n",
    "    lines = [ (gmsh.model.geo.addLine(dots[i][0], dots[i][1]), \n",
    "               gmsh.model.geo.addLine(dots[i][1], dots[i+1][1]), \n",
    "               gmsh.model.geo.addLine(dots[i+1][1], dots[i+1][0]),\n",
    "               gmsh.model.geo.addLine(dots[i+1][0], dots[i][0]))   \n",
    "             for i in range(len(dots) - 1)]\n",
    "    \n",
    "    curve_lines = [gmsh.model.geo.addCurveLoop(line4) for line4 in lines]\n",
    "    planes = [gmsh.model.geo.addPlaneSurface([curve_line]) for curve_line in curve_lines]\n",
    "    \n",
    "    planes.append( gmsh.model.geo.addPlaneSurface([gmsh.model.geo.addCurveLoop([])]) )\n",
    "    \n",
    "    return planes"
   ]
  },
  {
   "cell_type": "code",
   "execution_count": 8,
   "metadata": {},
   "outputs": [],
   "source": [
    "gmsh.initialize()\n",
    "gmsh.model.add(\"cilinder\")"
   ]
  },
  {
   "cell_type": "code",
   "execution_count": 9,
   "metadata": {},
   "outputs": [
    {
     "data": {
      "text/plain": [
       "1"
      ]
     },
     "execution_count": 9,
     "metadata": {},
     "output_type": "execute_result"
    }
   ],
   "source": [
    "cilinder = get_cilinder(1, 2, 100)\n",
    "gmsh.model.geo.addSurfaceLoop(cilinder, 1)"
   ]
  },
  {
   "cell_type": "code",
   "execution_count": 10,
   "metadata": {},
   "outputs": [],
   "source": [
    "gmsh.model.geo.synchronize()\n",
    "gmsh.model.mesh.generate(2)\n",
    "gmsh.write(\"cilinder.msh\")\n",
    "\n",
    "if '-nopopup' not in sys.argv:\n",
    "    gmsh.fltk.run()\n",
    "    \n",
    "gmsh.finalize()"
   ]
  },
  {
   "cell_type": "code",
   "execution_count": null,
   "metadata": {},
   "outputs": [],
   "source": []
  }
 ],
 "metadata": {
  "kernelspec": {
   "display_name": "Python 3 (ipykernel)",
   "language": "python",
   "name": "python3"
  },
  "language_info": {
   "codemirror_mode": {
    "name": "ipython",
    "version": 3
   },
   "file_extension": ".py",
   "mimetype": "text/x-python",
   "name": "python",
   "nbconvert_exporter": "python",
   "pygments_lexer": "ipython3",
   "version": "3.9.7"
  }
 },
 "nbformat": 4,
 "nbformat_minor": 4
}
