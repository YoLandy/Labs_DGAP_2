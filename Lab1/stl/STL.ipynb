{
 "cells": [
  {
   "cell_type": "code",
   "execution_count": 2,
   "id": "75851d18",
   "metadata": {},
   "outputs": [],
   "source": [
    "import gmsh\n",
    "import math\n",
    "import os\n",
    "import sys\n",
    "\n",
    "gmsh.initialize()\n",
    "\n",
    "gmsh.merge('t13_data.stl')\n",
    "\n",
    "angle = 40\n",
    "\n",
    "forceParametrizablePatches = False\n",
    "\n",
    "includeBoundary = True\n",
    "\n",
    "curveAngle = 180\n",
    "\n",
    "gmsh.model.mesh.classifySurfaces(angle * math.pi / 180., includeBoundary,\n",
    "                                 forceParametrizablePatches,\n",
    "                                 curveAngle * math.pi / 180.)\n",
    "\n",
    "gmsh.model.mesh.createGeometry()\n",
    "\n",
    "s = gmsh.model.getEntities(2)\n",
    "l = gmsh.model.geo.addSurfaceLoop([s[i][1] for i in range(len(s))])\n",
    "gmsh.model.geo.addVolume([l])\n",
    "\n",
    "gmsh.model.geo.synchronize()\n",
    "\n",
    "funny = False\n",
    "f = gmsh.model.mesh.field.add(\"MathEval\")\n",
    "if funny:\n",
    "    gmsh.model.mesh.field.setString(f, \"F\", \"2*Sin((x+y)/5) + 3\")\n",
    "else:\n",
    "    gmsh.model.mesh.field.setString(f, \"F\", \"4\")\n",
    "gmsh.model.mesh.field.setAsBackgroundMesh(f)\n",
    "\n",
    "gmsh.model.mesh.generate(3)\n",
    "gmsh.write('t13.msh')\n",
    "\n",
    "if '-nopopup' not in sys.argv:\n",
    "    gmsh.fltk.run()\n",
    "\n",
    "gmsh.finalize()"
   ]
  },
  {
   "cell_type": "code",
   "execution_count": null,
   "id": "dd01809a",
   "metadata": {},
   "outputs": [],
   "source": []
  }
 ],
 "metadata": {
  "kernelspec": {
   "display_name": "Python 3 (ipykernel)",
   "language": "python",
   "name": "python3"
  },
  "language_info": {
   "codemirror_mode": {
    "name": "ipython",
    "version": 3
   },
   "file_extension": ".py",
   "mimetype": "text/x-python",
   "name": "python",
   "nbconvert_exporter": "python",
   "pygments_lexer": "ipython3",
   "version": "3.9.7"
  }
 },
 "nbformat": 4,
 "nbformat_minor": 5
}
