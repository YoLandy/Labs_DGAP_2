{
 "cells": [
  {
   "cell_type": "code",
   "execution_count": 1,
   "metadata": {},
   "outputs": [],
   "source": [
    "import gmsh\n",
    "import sys\n",
    "import numpy as np\n",
    "from typing import List, Tuple"
   ]
  },
  {
   "cell_type": "code",
   "execution_count": 2,
   "metadata": {},
   "outputs": [],
   "source": [
    "def get_coord(R, rho, psi, phi):\n",
    "    '''\n",
    "    Дает декартову координату точки по её координатам на торе\n",
    "    '''\n",
    "    x = (R + rho * np.cos(psi)) * np.cos(phi)\n",
    "    y = (R + rho * np.cos(psi)) * np.sin(phi)\n",
    "    z = rho * np.sin(psi)\n",
    "    return x, y, z"
   ]
  },
  {
   "cell_type": "code",
   "execution_count": 3,
   "metadata": {},
   "outputs": [],
   "source": [
    "def get_dots(R, rho, N = 10, lc=1e-1):\n",
    "    '''\n",
    "    Дает все точки тора\n",
    "    '''\n",
    "    \n",
    "    dots = []\n",
    "    for psi in np.linspace(0, 2*3.14, N):\n",
    "        line = []\n",
    "        for phi in np.linspace(0, 2*3.14, N):\n",
    "            x, y, z = get_coord(R, rho, psi, phi)\n",
    "            line.append(gmsh.model.geo.addPoint(x, y, z, lc))\n",
    "        dots.append(line)\n",
    "    return dots"
   ]
  },
  {
   "cell_type": "code",
   "execution_count": 4,
   "metadata": {},
   "outputs": [],
   "source": [
    "def make_thor(R, rho, N = 10, lc=1e-1):\n",
    "    '''\n",
    "    Делает тор\n",
    "    '''\n",
    "    dots = get_dots(R, rho, N, lc)\n",
    "    \n",
    "    planes = []\n",
    "    \n",
    "    for i in range(len(dots)):\n",
    "        for j in range(len(dots[0])):\n",
    "            lines = []\n",
    "            lines.append(gmsh.model.geo.addLine(dots[i       % N][j       % N], dots[i       % N][(j + 1) % N]))\n",
    "            lines.append(gmsh.model.geo.addLine(dots[i       % N][(j + 1) % N], dots[(i + 1) % N][(j + 1) % N]))\n",
    "            lines.append(gmsh.model.geo.addLine(dots[(i + 1) % N][(j + 1) % N], dots[(i + 1) % N][j       % N]))\n",
    "            lines.append(gmsh.model.geo.addLine(dots[(i + 1) % N][j       % N], dots[i       % N][j       % N]))\n",
    "            \n",
    "            planes.append(gmsh.model.geo.addPlaneSurface([gmsh.model.geo.addCurveLoop(lines)]))\n",
    "    \n",
    "    thor = gmsh.model.geo.addSurfaceLoop(planes)\n",
    "    gmsh.model.geo.addVolume([thor])"
   ]
  },
  {
   "cell_type": "code",
   "execution_count": 10,
   "metadata": {},
   "outputs": [
    {
     "ename": "OSError",
     "evalue": "exception: access violation writing 0x0000000000000CE9",
     "output_type": "error",
     "traceback": [
      "\u001b[1;31m---------------------------------------------------------------------------\u001b[0m",
      "\u001b[1;31mOSError\u001b[0m                                   Traceback (most recent call last)",
      "\u001b[1;32m~\\AppData\\Local\\Temp/ipykernel_10208/1983824688.py\u001b[0m in \u001b[0;36m<module>\u001b[1;34m\u001b[0m\n\u001b[0;32m      9\u001b[0m \u001b[1;33m\u001b[0m\u001b[0m\n\u001b[0;32m     10\u001b[0m \u001b[1;32mif\u001b[0m \u001b[1;34m'-nopopup'\u001b[0m \u001b[1;32mnot\u001b[0m \u001b[1;32min\u001b[0m \u001b[0msys\u001b[0m\u001b[1;33m.\u001b[0m\u001b[0margv\u001b[0m\u001b[1;33m:\u001b[0m\u001b[1;33m\u001b[0m\u001b[1;33m\u001b[0m\u001b[0m\n\u001b[1;32m---> 11\u001b[1;33m     \u001b[0mgmsh\u001b[0m\u001b[1;33m.\u001b[0m\u001b[0mfltk\u001b[0m\u001b[1;33m.\u001b[0m\u001b[0mrun\u001b[0m\u001b[1;33m(\u001b[0m\u001b[1;33m)\u001b[0m\u001b[1;33m\u001b[0m\u001b[1;33m\u001b[0m\u001b[0m\n\u001b[0m\u001b[0;32m     12\u001b[0m \u001b[1;33m\u001b[0m\u001b[0m\n\u001b[0;32m     13\u001b[0m \u001b[0mgmsh\u001b[0m\u001b[1;33m.\u001b[0m\u001b[0mfinalize\u001b[0m\u001b[1;33m(\u001b[0m\u001b[1;33m)\u001b[0m\u001b[1;33m\u001b[0m\u001b[1;33m\u001b[0m\u001b[0m\n",
      "\u001b[1;32m~\\anaconda3\\lib\\site-packages\\gmsh.py\u001b[0m in \u001b[0;36mrun\u001b[1;34m()\u001b[0m\n\u001b[0;32m   7920\u001b[0m         \"\"\"\n\u001b[0;32m   7921\u001b[0m         \u001b[0mierr\u001b[0m \u001b[1;33m=\u001b[0m \u001b[0mc_int\u001b[0m\u001b[1;33m(\u001b[0m\u001b[1;33m)\u001b[0m\u001b[1;33m\u001b[0m\u001b[1;33m\u001b[0m\u001b[0m\n\u001b[1;32m-> 7922\u001b[1;33m         lib.gmshFltkRun(\n\u001b[0m\u001b[0;32m   7923\u001b[0m             byref(ierr))\n\u001b[0;32m   7924\u001b[0m         \u001b[1;32mif\u001b[0m \u001b[0mierr\u001b[0m\u001b[1;33m.\u001b[0m\u001b[0mvalue\u001b[0m \u001b[1;33m!=\u001b[0m \u001b[1;36m0\u001b[0m\u001b[1;33m:\u001b[0m\u001b[1;33m\u001b[0m\u001b[1;33m\u001b[0m\u001b[0m\n",
      "\u001b[1;31mOSError\u001b[0m: exception: access violation writing 0x0000000000000CE9"
     ]
    }
   ],
   "source": [
    "gmsh.initialize()\n",
    "gmsh.model.add(\"t1\")\n",
    "\n",
    "make_thor(2, 1, 10)\n",
    "\n",
    "gmsh.model.geo.synchronize()\n",
    "gmsh.model.mesh.generate(2)\n",
    "gmsh.write(\"t1.msh\")\n",
    "\n",
    "if '-nopopup' not in sys.argv:\n",
    "    gmsh.fltk.run()\n",
    "    \n",
    "gmsh.finalize()"
   ]
  },
  {
   "cell_type": "code",
   "execution_count": null,
   "metadata": {},
   "outputs": [],
   "source": []
  },
  {
   "cell_type": "code",
   "execution_count": null,
   "metadata": {},
   "outputs": [],
   "source": []
  }
 ],
 "metadata": {
  "kernelspec": {
   "display_name": "Python 3 (ipykernel)",
   "language": "python",
   "name": "python3"
  },
  "language_info": {
   "codemirror_mode": {
    "name": "ipython",
    "version": 3
   },
   "file_extension": ".py",
   "mimetype": "text/x-python",
   "name": "python",
   "nbconvert_exporter": "python",
   "pygments_lexer": "ipython3",
   "version": "3.9.7"
  }
 },
 "nbformat": 4,
 "nbformat_minor": 4
}
