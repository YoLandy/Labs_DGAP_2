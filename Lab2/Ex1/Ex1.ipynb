{
 "cells": [
  {
   "cell_type": "code",
   "execution_count": 47,
   "metadata": {},
   "outputs": [],
   "source": [
    "import numpy as np\n",
    "import vtk"
   ]
  },
  {
   "cell_type": "code",
   "execution_count": 48,
   "metadata": {},
   "outputs": [],
   "source": [
    "class CalcMesh:\n",
    "\n",
    "    # Конструктор сетки size x size точек с шагом h по пространству\n",
    "    def __init__(self, size, step):\n",
    "        # 2D-сетка из расчётных точек, у каждой из которых, тем не менее, 3 координаты\n",
    "        self.nodes = np.mgrid[0 : size-1 : np.complex(size), 0 : size-1 : np.complex(size)]\n",
    "        self.nodes *= step\n",
    "        self.nodes = np.append(self.nodes, [np.zeros(shape=(size, size), dtype=np.double)], 0)\n",
    "\n",
    "        # Модельная скалярная величина распределена как-то вот так\n",
    "        self.smth = np.power(self.nodes[0], 2) + np.power(self.nodes[1], 2)\n",
    "\n",
    "        # Профиль скорости взят какой-нибудь с потолка, есть только компонента по Z\n",
    "        self.velocity = np.zeros(shape=(3, size, size), dtype=np.double)\n",
    "        self.velocity[2] = np.power(self.nodes[0] - self.nodes[1], 2)\n",
    "\n",
    "    # Метод отвечает за выполнение для всей сетки шага по времени величиной tau\n",
    "    def move(self, tau):\n",
    "        # По сути метод просто двигает все точки c их текущими скоростями\n",
    "        self.nodes += self.velocity * tau\n",
    "\n",
    "    # Метод отвечает за запись текущего состояния сетки в снапшот в формате VTK\n",
    "    def snapshot(self, snap_number):\n",
    "        # Сетка в терминах VTK\n",
    "        structuredGrid = vtk.vtkStructuredGrid()\n",
    "        # Точки сетки в терминах VTK\n",
    "        points = vtk.vtkPoints()\n",
    "\n",
    "        # Скалярное поле на точках сетки\n",
    "        smth = vtk.vtkDoubleArray()\n",
    "        smth.SetName(\"smth\")\n",
    "\n",
    "        # Векторное поле на точках сетки\n",
    "        vel = vtk.vtkDoubleArray()\n",
    "        vel.SetNumberOfComponents(3)\n",
    "        vel.SetName(\"vel\")\n",
    "\n",
    "        # Обходим все точки нашей расчётной сетки\n",
    "        # Делаем это максимально неэффективным, зато наглядным образом\n",
    "        number = len(self.nodes[0])\n",
    "        for i in range(0, number):\n",
    "            for j in range(0, number):\n",
    "                # Вставляем новую точку в сетку VTK-снапшота\n",
    "                points.InsertNextPoint(self.nodes[0][i,j], self.nodes[1][i,j], self.nodes[2][i,j])\n",
    "                # Добавляем значение скалярного поля в этой точке\n",
    "                smth.InsertNextValue(self.smth[i,j])\n",
    "                # Добавляем значение векторного поля в этой точке\n",
    "                vel.InsertNextTuple((self.velocity[0][i,j], self.velocity[1][i,j], self.velocity[2][i,j]))\n",
    "\n",
    "        # Задаём размеры VTK-сетки (в точках, по трём осям)\n",
    "        structuredGrid.SetDimensions(number, number, 1)\n",
    "        # Грузим точки в сетку\n",
    "        structuredGrid.SetPoints(points)\n",
    "\n",
    "        # Присоединяем векторное и скалярное поля к точкам\n",
    "        structuredGrid.GetPointData().AddArray(smth)\n",
    "        structuredGrid.GetPointData().AddArray(vel)\n",
    "\n",
    "        # Создаём снапшот в файле с заданным именем\n",
    "        writer = vtk.vtkXMLStructuredGridWriter()\n",
    "        writer.SetInputDataObject(structuredGrid)\n",
    "        writer.SetFileName(\"cubic2d-step-\" + str(snap_number) + \".vts\")\n",
    "        writer.Write()"
   ]
  },
  {
   "cell_type": "code",
   "execution_count": 49,
   "metadata": {},
   "outputs": [],
   "source": [
    "# Размер расчётной сетки, точек на сторону\n",
    "size = 10\n",
    "# Шаг точек по пространству\n",
    "h = 0.1\n",
    "# Шаг по времени\n",
    "tau = 0.01"
   ]
  },
  {
   "cell_type": "code",
   "execution_count": 50,
   "metadata": {},
   "outputs": [],
   "source": [
    "# Создаём сетку заданного размера\n",
    "m = CalcMesh(size, h)\n",
    "# Пишем её начальное состояние в VTK\n",
    "m.snapshot(0)\n"
   ]
  },
  {
   "cell_type": "code",
   "execution_count": 51,
   "metadata": {},
   "outputs": [],
   "source": [
    "# Делаем шаги по времени,\n",
    "# на каждом шаге считаем новое состояние и пишем его в VTK\n",
    "for i in range(1, 100):\n",
    "    m.move(tau)\n",
    "    m.snapshot(i)"
   ]
  },
  {
   "cell_type": "code",
   "execution_count": null,
   "metadata": {},
   "outputs": [],
   "source": []
  },
  {
   "cell_type": "code",
   "execution_count": 52,
   "metadata": {},
   "outputs": [
    {
     "data": {
      "text/plain": [
       "array([[[0. , 0. , 0. , 0. , 0. , 0. , 0. , 0. , 0. , 0. ],\n",
       "        [0.1, 0.1, 0.1, 0.1, 0.1, 0.1, 0.1, 0.1, 0.1, 0.1],\n",
       "        [0.2, 0.2, 0.2, 0.2, 0.2, 0.2, 0.2, 0.2, 0.2, 0.2],\n",
       "        [0.3, 0.3, 0.3, 0.3, 0.3, 0.3, 0.3, 0.3, 0.3, 0.3],\n",
       "        [0.4, 0.4, 0.4, 0.4, 0.4, 0.4, 0.4, 0.4, 0.4, 0.4],\n",
       "        [0.5, 0.5, 0.5, 0.5, 0.5, 0.5, 0.5, 0.5, 0.5, 0.5],\n",
       "        [0.6, 0.6, 0.6, 0.6, 0.6, 0.6, 0.6, 0.6, 0.6, 0.6],\n",
       "        [0.7, 0.7, 0.7, 0.7, 0.7, 0.7, 0.7, 0.7, 0.7, 0.7],\n",
       "        [0.8, 0.8, 0.8, 0.8, 0.8, 0.8, 0.8, 0.8, 0.8, 0.8],\n",
       "        [0.9, 0.9, 0.9, 0.9, 0.9, 0.9, 0.9, 0.9, 0.9, 0.9]],\n",
       "\n",
       "       [[0. , 0.1, 0.2, 0.3, 0.4, 0.5, 0.6, 0.7, 0.8, 0.9],\n",
       "        [0. , 0.1, 0.2, 0.3, 0.4, 0.5, 0.6, 0.7, 0.8, 0.9],\n",
       "        [0. , 0.1, 0.2, 0.3, 0.4, 0.5, 0.6, 0.7, 0.8, 0.9],\n",
       "        [0. , 0.1, 0.2, 0.3, 0.4, 0.5, 0.6, 0.7, 0.8, 0.9],\n",
       "        [0. , 0.1, 0.2, 0.3, 0.4, 0.5, 0.6, 0.7, 0.8, 0.9],\n",
       "        [0. , 0.1, 0.2, 0.3, 0.4, 0.5, 0.6, 0.7, 0.8, 0.9],\n",
       "        [0. , 0.1, 0.2, 0.3, 0.4, 0.5, 0.6, 0.7, 0.8, 0.9],\n",
       "        [0. , 0.1, 0.2, 0.3, 0.4, 0.5, 0.6, 0.7, 0.8, 0.9],\n",
       "        [0. , 0.1, 0.2, 0.3, 0.4, 0.5, 0.6, 0.7, 0.8, 0.9],\n",
       "        [0. , 0.1, 0.2, 0.3, 0.4, 0.5, 0.6, 0.7, 0.8, 0.9]]])"
      ]
     },
     "execution_count": 52,
     "metadata": {},
     "output_type": "execute_result"
    }
   ],
   "source": [
    "nodes = np.mgrid[0 : size - 1 : np.complex(size), 0 : size - 1 : np.complex(size)]\n",
    "nodes *= 0.1\n",
    "nodes"
   ]
  },
  {
   "cell_type": "code",
   "execution_count": 54,
   "metadata": {},
   "outputs": [
    {
     "data": {
      "text/plain": [
       "array([[ 0. , -0.1, -0.2, -0.3, -0.4, -0.5, -0.6, -0.7, -0.8, -0.9],\n",
       "       [ 0.1,  0. , -0.1, -0.2, -0.3, -0.4, -0.5, -0.6, -0.7, -0.8],\n",
       "       [ 0.2,  0.1,  0. , -0.1, -0.2, -0.3, -0.4, -0.5, -0.6, -0.7],\n",
       "       [ 0.3,  0.2,  0.1,  0. , -0.1, -0.2, -0.3, -0.4, -0.5, -0.6],\n",
       "       [ 0.4,  0.3,  0.2,  0.1,  0. , -0.1, -0.2, -0.3, -0.4, -0.5],\n",
       "       [ 0.5,  0.4,  0.3,  0.2,  0.1,  0. , -0.1, -0.2, -0.3, -0.4],\n",
       "       [ 0.6,  0.5,  0.4,  0.3,  0.2,  0.1,  0. , -0.1, -0.2, -0.3],\n",
       "       [ 0.7,  0.6,  0.5,  0.4,  0.3,  0.2,  0.1,  0. , -0.1, -0.2],\n",
       "       [ 0.8,  0.7,  0.6,  0.5,  0.4,  0.3,  0.2,  0.1,  0. , -0.1],\n",
       "       [ 0.9,  0.8,  0.7,  0.6,  0.5,  0.4,  0.3,  0.2,  0.1,  0. ]])"
      ]
     },
     "execution_count": 54,
     "metadata": {},
     "output_type": "execute_result"
    }
   ],
   "source": [
    "nodes[0] - nodes[1]"
   ]
  },
  {
   "cell_type": "code",
   "execution_count": null,
   "metadata": {},
   "outputs": [],
   "source": []
  }
 ],
 "metadata": {
  "kernelspec": {
   "display_name": "Python 3",
   "language": "python",
   "name": "python3"
  },
  "language_info": {
   "codemirror_mode": {
    "name": "ipython",
    "version": 3
   },
   "file_extension": ".py",
   "mimetype": "text/x-python",
   "name": "python",
   "nbconvert_exporter": "python",
   "pygments_lexer": "ipython3",
   "version": "3.8.5"
  }
 },
 "nbformat": 4,
 "nbformat_minor": 4
}
